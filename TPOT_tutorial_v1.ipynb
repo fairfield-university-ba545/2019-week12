{
 "cells": [
  {
   "cell_type": "markdown",
   "metadata": {
    "colab_type": "text",
    "id": "kOlWS3SwJ0CQ"
   },
   "source": [
    "# TPOT in Python\n",
    "\n",
    "In this tutorial, you will learn how to use a very unique library in python: `TPOT`. The reason why this library is unique is that it automates the entire Machine Learning pipeline and provides you with the best performing machine learning model. `TPOT` is one of the most popular package in Automated Machine Learning (AutoML) - since it is effective and free to use.\n",
    "\n",
    "More specifically, you will learn:\n",
    "\n",
    "- The idea behind Automated Machine Learning\n",
    "- How TPOT uses Genetic Programming to select the best machine learning model\n",
    "- Using TPOT on a dataset in Python\n",
    "- Limitations of TPOT\n",
    "\n",
    "Let's get started!\n",
    "\n",
    "Original post is [here](https://www.datacamp.com/community/tutorials/tpot-machine-learning-python) - many thanks to DataCamp!\n",
    "\n",
    "Revised by Dr. Jie Tao, Mar-31-2020, Ver. 1.0"
   ]
  },
  {
   "cell_type": "markdown",
   "metadata": {
    "colab_type": "text",
    "id": "x61_wM-xJ0CR"
   },
   "source": [
    "# Introduction\n",
    "\n",
    "There are a lot of components you have to consider before solving a machine learning problem some of which includes *data preparation*, *feature selection*, *feature engineering*, *model selection and validation*, *hyperparameter tuning*, etc. \n",
    "\n",
    "In theory, you can find and apply a plethora of techniques for each of these components, but they all might perform differently for different datasets. The challenge is to find the best performing combination of techniques so that you can minimize the error in your predictions. This is the main reason that nowadays people are working to develop **Auto-ML algorithms** and platforms so that anyone, without any machine learning expertise, can build models without spending much time or effort. \n",
    "\n",
    "One such platform is available as a python library: **TPOT**. You can consider **TPOT** your Data Science Assistant. TPOT is a python Automated Machine Learning tool that optimizes *machine learning pipelines* using genetic programming. It will automate the most tedious part of machine learning by intelligently exploring thousands of possible pipelines to find the best one for your data.\n",
    "\n",
    "Following image depicts how TPOT works:\n",
    "\n",
    "<img src = 'https://res.cloudinary.com/dyd911kmh/image/upload/f_auto,q_auto:best/v1537396029/output_2_0_d7uh0v.png'/>"
   ]
  },
  {
   "cell_type": "markdown",
   "metadata": {
    "colab_type": "text",
    "id": "fVLHyLJUJ0CR"
   },
   "source": [
    "# Installation\n",
    "To install tpot on your system, you can run the command **sudo pip install tpot** on command line terminal or check out this [link](http://epistasislab.github.io/tpot/installing/). tpot is built on top of several existing Python libraries, including **numpy**, **scipy**, **scikit-learn**, **DEAP**, **update_checker**, **tqdm**, **stopit**, and **pandas**. Most of the necessary Python packages can be installed via the [Anaconda Python distribution](https://www.continuum.io/downloads), or you could install them separately also. Optionally, you can also install **XGBoost** [here](https://www.datacamp.com/community/tutorials/xgboost-in-python) if you would like tpot to use the eXtreme Gradient Boosting models."
   ]
  },
  {
   "cell_type": "markdown",
   "metadata": {
    "colab_type": "text",
    "id": "0P6sKu1RJ0CS"
   },
   "source": [
    "# Genetic Programming\n",
    "With the right data, computing power and machine learning model you can discover a solution to any problem, but knowing which model to use can be challenging for you as there are so many of them like *Decision Trees*, *SVM*, *KNN*, etc. That's where genetic programming can be of great use and provide help. Genetic algorithms are inspired by the Darwinian process of Natural Selection, and they are used to generate solutions to optimization and search problems in computer science.\n",
    "\n",
    "Broadly speaking, Genetic Algorithms have three properties:\n",
    "\n",
    "- Selection: You have a population of possible solutions to a given problem and a fitness function. At every iteration, you evaluate how to fit each solution with your fitness function.\n",
    "- Crossover: Then you select the fittest ones and perform crossover to create a new population.\n",
    "- Mutation: You take those children and mutate them with some random modification and repeat the process until you get the fittest or best solution.\n",
    "\n",
    "Genetic Programming itself is a big topic in computer science but if you wish to go deeper into genetic algorithms, check out this video series.\n",
    "\n",
    "***But how does this all fit into data science?***\n",
    "\n",
    "Well, it turns out that choosing the right machine learning model and all the best hyperparameters for that model is itself an optimization problem for which genetic programming can be used. The Python library tpot built on top of scikit-learn uses genetic programming to optimize your machine learning pipeline. For instance, in machine learning, after preparing your data you need to know what features to input to your model and how you should construct those features. Once you have those features, you input them into your model to train on, and then you tune your hyperparameters to get the optimal results. Instead of doing this all by yourselves through trial and error, TPOT automates these steps for you with genetic programming and outputs the optimal code for you when it's done."
   ]
  },
  {
   "cell_type": "markdown",
   "metadata": {
    "colab_type": "text",
    "id": "6OkCt1cDJ0CS"
   },
   "source": [
    "# A Running Example\n",
    "\n",
    "\n",
    "To understand further, you will practice using the tpot library on an open source dataset. The dataset you will be using is MAGIC Gamma Telescope DataSet. The data are generated to simulate registration of high energy gamma particles in a ground-based atmospheric Cherenkov gamma telescope using the imaging technique. The dataset has the following attributes/features :\n",
    "\n",
    "**Predictors**\n",
    "\n",
    "1. fLength: continuous *# major axis of ellipse [mm]*\n",
    "2. fWidth: continuous *# minor axis of ellipse [mm]*\n",
    "3. fSize: continuous *# 10-log of sum of content of all pixels [in #phot]*\n",
    "4. fConc: continuous *# ratio of sum of two highest pixels over fSize [ratio]*\n",
    "5. fConc1: continuous *# ratio of highest pixel over fSize [ratio]*\n",
    "6. fAsym: continuous *# distance from the highest pixel to center, projected onto major axis [mm]*\n",
    "7. fM3Long: continuous *# 3rd root of the third moment along major axis [mm]*\n",
    "8. fM3Trans: continuous *# 3rd root of the third moment along minor axis [mm]*\n",
    "9. fAlpha: continuous *# angle of major axis with a vector to origin [deg]*\n",
    "10. fDist: continuous *# distance from the origin to the center of the ellipse [mm]*\n",
    "\n",
    "**Target**\n",
    "\n",
    "11. class: g,h *# gamma (signal), hadron (background) (target variable)*\n",
    "\n",
    "The goal is to classify an observation as *gamma*, which is the desired signal, or *hadron*, which is the background noise, based on the attributes provided.\n",
    "\n",
    "You will start by importing **pandas** and **numpy** libraries to read the data and perform computations on it respectively."
   ]
  },
  {
   "cell_type": "code",
   "execution_count": 1,
   "metadata": {
    "colab": {},
    "colab_type": "code",
    "id": "zPxzAslnJ0CT"
   },
   "outputs": [],
   "source": [
    "import pandas as pd\n",
    "import numpy as np"
   ]
  },
  {
   "cell_type": "markdown",
   "metadata": {
    "colab_type": "text",
    "id": "mST5XGMEJ0CW"
   },
   "source": [
    "## Read-in Data\n",
    "\n",
    "Use the pandas **read_csv()** function to read the dataset as a DataFrame. Also, specify the parameter **header = None** since the dataset doesn't have column names yet."
   ]
  },
  {
   "cell_type": "code",
   "execution_count": 2,
   "metadata": {
    "colab": {},
    "colab_type": "code",
    "id": "94SmLSq5J0CW"
   },
   "outputs": [],
   "source": [
    "data_url = 'https://raw.githubusercontent.com/fairfield-university-ba545/Week11/master/data/magic04.csv'\n",
    "telescope_data=pd.read_csv(data_url,header=None)"
   ]
  },
  {
   "cell_type": "markdown",
   "metadata": {
    "colab_type": "text",
    "id": "xayO11vYJ0CY"
   },
   "source": [
    "Check the contents of the DataFrame using the **head()** method."
   ]
  },
  {
   "cell_type": "code",
   "execution_count": 3,
   "metadata": {
    "colab": {
     "base_uri": "https://localhost:8080/",
     "height": 204
    },
    "colab_type": "code",
    "id": "KJj3XsXwJ0CY",
    "outputId": "b260a2c4-a243-4405-9d30-95b8f5d7a2de"
   },
   "outputs": [
    {
     "data": {
      "text/html": [
       "<div>\n",
       "<style scoped>\n",
       "    .dataframe tbody tr th:only-of-type {\n",
       "        vertical-align: middle;\n",
       "    }\n",
       "\n",
       "    .dataframe tbody tr th {\n",
       "        vertical-align: top;\n",
       "    }\n",
       "\n",
       "    .dataframe thead th {\n",
       "        text-align: right;\n",
       "    }\n",
       "</style>\n",
       "<table border=\"1\" class=\"dataframe\">\n",
       "  <thead>\n",
       "    <tr style=\"text-align: right;\">\n",
       "      <th></th>\n",
       "      <th>0</th>\n",
       "      <th>1</th>\n",
       "      <th>2</th>\n",
       "      <th>3</th>\n",
       "      <th>4</th>\n",
       "      <th>5</th>\n",
       "      <th>6</th>\n",
       "      <th>7</th>\n",
       "      <th>8</th>\n",
       "      <th>9</th>\n",
       "      <th>10</th>\n",
       "    </tr>\n",
       "  </thead>\n",
       "  <tbody>\n",
       "    <tr>\n",
       "      <th>0</th>\n",
       "      <td>28.7967</td>\n",
       "      <td>16.0021</td>\n",
       "      <td>2.6449</td>\n",
       "      <td>0.3918</td>\n",
       "      <td>0.1982</td>\n",
       "      <td>27.7004</td>\n",
       "      <td>22.0110</td>\n",
       "      <td>-8.2027</td>\n",
       "      <td>40.0920</td>\n",
       "      <td>81.8828</td>\n",
       "      <td>g</td>\n",
       "    </tr>\n",
       "    <tr>\n",
       "      <th>1</th>\n",
       "      <td>31.6036</td>\n",
       "      <td>11.7235</td>\n",
       "      <td>2.5185</td>\n",
       "      <td>0.5303</td>\n",
       "      <td>0.3773</td>\n",
       "      <td>26.2722</td>\n",
       "      <td>23.8238</td>\n",
       "      <td>-9.9574</td>\n",
       "      <td>6.3609</td>\n",
       "      <td>205.2610</td>\n",
       "      <td>g</td>\n",
       "    </tr>\n",
       "    <tr>\n",
       "      <th>2</th>\n",
       "      <td>162.0520</td>\n",
       "      <td>136.0310</td>\n",
       "      <td>4.0612</td>\n",
       "      <td>0.0374</td>\n",
       "      <td>0.0187</td>\n",
       "      <td>116.7410</td>\n",
       "      <td>-64.8580</td>\n",
       "      <td>-45.2160</td>\n",
       "      <td>76.9600</td>\n",
       "      <td>256.7880</td>\n",
       "      <td>g</td>\n",
       "    </tr>\n",
       "    <tr>\n",
       "      <th>3</th>\n",
       "      <td>23.8172</td>\n",
       "      <td>9.5728</td>\n",
       "      <td>2.3385</td>\n",
       "      <td>0.6147</td>\n",
       "      <td>0.3922</td>\n",
       "      <td>27.2107</td>\n",
       "      <td>-6.4633</td>\n",
       "      <td>-7.1513</td>\n",
       "      <td>10.4490</td>\n",
       "      <td>116.7370</td>\n",
       "      <td>g</td>\n",
       "    </tr>\n",
       "    <tr>\n",
       "      <th>4</th>\n",
       "      <td>75.1362</td>\n",
       "      <td>30.9205</td>\n",
       "      <td>3.1611</td>\n",
       "      <td>0.3168</td>\n",
       "      <td>0.1832</td>\n",
       "      <td>-5.5277</td>\n",
       "      <td>28.5525</td>\n",
       "      <td>21.8393</td>\n",
       "      <td>4.6480</td>\n",
       "      <td>356.4620</td>\n",
       "      <td>g</td>\n",
       "    </tr>\n",
       "  </tbody>\n",
       "</table>\n",
       "</div>"
      ],
      "text/plain": [
       "         0         1       2       3       4         5        6        7   \\\n",
       "0   28.7967   16.0021  2.6449  0.3918  0.1982   27.7004  22.0110  -8.2027   \n",
       "1   31.6036   11.7235  2.5185  0.5303  0.3773   26.2722  23.8238  -9.9574   \n",
       "2  162.0520  136.0310  4.0612  0.0374  0.0187  116.7410 -64.8580 -45.2160   \n",
       "3   23.8172    9.5728  2.3385  0.6147  0.3922   27.2107  -6.4633  -7.1513   \n",
       "4   75.1362   30.9205  3.1611  0.3168  0.1832   -5.5277  28.5525  21.8393   \n",
       "\n",
       "        8         9  10  \n",
       "0  40.0920   81.8828  g  \n",
       "1   6.3609  205.2610  g  \n",
       "2  76.9600  256.7880  g  \n",
       "3  10.4490  116.7370  g  \n",
       "4   4.6480  356.4620  g  "
      ]
     },
     "execution_count": 3,
     "metadata": {},
     "output_type": "execute_result"
    }
   ],
   "source": [
    "telescope_data.head()"
   ]
  },
  {
   "cell_type": "markdown",
   "metadata": {
    "colab_type": "text",
    "id": "OY5c5FnOJ0Cb"
   },
   "source": [
    "To give names to the columns of the DataFrame, you can use the attribute columns on the pandas DataFrame and assign it to a list containing the names of the columns."
   ]
  },
  {
   "cell_type": "code",
   "execution_count": 4,
   "metadata": {
    "colab": {},
    "colab_type": "code",
    "id": "YWHEXoqyJ0Cb"
   },
   "outputs": [],
   "source": [
    "telescope_data.columns = ['fLength', 'fWidth','fSize','fConc','fConcl','fAsym','fM3Long','fM3Trans','fAlpha','fDist','class']"
   ]
  },
  {
   "cell_type": "code",
   "execution_count": 5,
   "metadata": {
    "colab": {
     "base_uri": "https://localhost:8080/",
     "height": 204
    },
    "colab_type": "code",
    "id": "kzUPu5YoJ0Cd",
    "outputId": "b07801d1-02bc-4993-ddda-bb4e702c53d0"
   },
   "outputs": [
    {
     "data": {
      "text/html": [
       "<div>\n",
       "<style scoped>\n",
       "    .dataframe tbody tr th:only-of-type {\n",
       "        vertical-align: middle;\n",
       "    }\n",
       "\n",
       "    .dataframe tbody tr th {\n",
       "        vertical-align: top;\n",
       "    }\n",
       "\n",
       "    .dataframe thead th {\n",
       "        text-align: right;\n",
       "    }\n",
       "</style>\n",
       "<table border=\"1\" class=\"dataframe\">\n",
       "  <thead>\n",
       "    <tr style=\"text-align: right;\">\n",
       "      <th></th>\n",
       "      <th>fLength</th>\n",
       "      <th>fWidth</th>\n",
       "      <th>fSize</th>\n",
       "      <th>fConc</th>\n",
       "      <th>fConcl</th>\n",
       "      <th>fAsym</th>\n",
       "      <th>fM3Long</th>\n",
       "      <th>fM3Trans</th>\n",
       "      <th>fAlpha</th>\n",
       "      <th>fDist</th>\n",
       "      <th>class</th>\n",
       "    </tr>\n",
       "  </thead>\n",
       "  <tbody>\n",
       "    <tr>\n",
       "      <th>0</th>\n",
       "      <td>28.7967</td>\n",
       "      <td>16.0021</td>\n",
       "      <td>2.6449</td>\n",
       "      <td>0.3918</td>\n",
       "      <td>0.1982</td>\n",
       "      <td>27.7004</td>\n",
       "      <td>22.0110</td>\n",
       "      <td>-8.2027</td>\n",
       "      <td>40.0920</td>\n",
       "      <td>81.8828</td>\n",
       "      <td>g</td>\n",
       "    </tr>\n",
       "    <tr>\n",
       "      <th>1</th>\n",
       "      <td>31.6036</td>\n",
       "      <td>11.7235</td>\n",
       "      <td>2.5185</td>\n",
       "      <td>0.5303</td>\n",
       "      <td>0.3773</td>\n",
       "      <td>26.2722</td>\n",
       "      <td>23.8238</td>\n",
       "      <td>-9.9574</td>\n",
       "      <td>6.3609</td>\n",
       "      <td>205.2610</td>\n",
       "      <td>g</td>\n",
       "    </tr>\n",
       "    <tr>\n",
       "      <th>2</th>\n",
       "      <td>162.0520</td>\n",
       "      <td>136.0310</td>\n",
       "      <td>4.0612</td>\n",
       "      <td>0.0374</td>\n",
       "      <td>0.0187</td>\n",
       "      <td>116.7410</td>\n",
       "      <td>-64.8580</td>\n",
       "      <td>-45.2160</td>\n",
       "      <td>76.9600</td>\n",
       "      <td>256.7880</td>\n",
       "      <td>g</td>\n",
       "    </tr>\n",
       "    <tr>\n",
       "      <th>3</th>\n",
       "      <td>23.8172</td>\n",
       "      <td>9.5728</td>\n",
       "      <td>2.3385</td>\n",
       "      <td>0.6147</td>\n",
       "      <td>0.3922</td>\n",
       "      <td>27.2107</td>\n",
       "      <td>-6.4633</td>\n",
       "      <td>-7.1513</td>\n",
       "      <td>10.4490</td>\n",
       "      <td>116.7370</td>\n",
       "      <td>g</td>\n",
       "    </tr>\n",
       "    <tr>\n",
       "      <th>4</th>\n",
       "      <td>75.1362</td>\n",
       "      <td>30.9205</td>\n",
       "      <td>3.1611</td>\n",
       "      <td>0.3168</td>\n",
       "      <td>0.1832</td>\n",
       "      <td>-5.5277</td>\n",
       "      <td>28.5525</td>\n",
       "      <td>21.8393</td>\n",
       "      <td>4.6480</td>\n",
       "      <td>356.4620</td>\n",
       "      <td>g</td>\n",
       "    </tr>\n",
       "  </tbody>\n",
       "</table>\n",
       "</div>"
      ],
      "text/plain": [
       "    fLength    fWidth   fSize   fConc  fConcl     fAsym  fM3Long  fM3Trans  \\\n",
       "0   28.7967   16.0021  2.6449  0.3918  0.1982   27.7004  22.0110   -8.2027   \n",
       "1   31.6036   11.7235  2.5185  0.5303  0.3773   26.2722  23.8238   -9.9574   \n",
       "2  162.0520  136.0310  4.0612  0.0374  0.0187  116.7410 -64.8580  -45.2160   \n",
       "3   23.8172    9.5728  2.3385  0.6147  0.3922   27.2107  -6.4633   -7.1513   \n",
       "4   75.1362   30.9205  3.1611  0.3168  0.1832   -5.5277  28.5525   21.8393   \n",
       "\n",
       "    fAlpha     fDist class  \n",
       "0  40.0920   81.8828     g  \n",
       "1   6.3609  205.2610     g  \n",
       "2  76.9600  256.7880     g  \n",
       "3  10.4490  116.7370     g  \n",
       "4   4.6480  356.4620     g  "
      ]
     },
     "execution_count": 5,
     "metadata": {},
     "output_type": "execute_result"
    }
   ],
   "source": [
    "telescope_data.head()"
   ]
  },
  {
   "cell_type": "markdown",
   "metadata": {
    "colab_type": "text",
    "id": "s1qyi0vQJ0Cg"
   },
   "source": [
    "Now you have the column names as well in your DataFrame.\n",
    "\n",
    "# Investigating Your Data\n",
    "To get the necessary information about the DataFrame like the number of values in each column, data-type, count, mean, etc., you can use the pandas info() and describe() methods."
   ]
  },
  {
   "cell_type": "code",
   "execution_count": 6,
   "metadata": {
    "colab": {
     "base_uri": "https://localhost:8080/",
     "height": 323
    },
    "colab_type": "code",
    "id": "bC5Q4IKeJ0Cg",
    "outputId": "5aa2fa1e-eba0-4662-ec6c-4f7ced4c3533"
   },
   "outputs": [
    {
     "name": "stdout",
     "output_type": "stream",
     "text": [
      "<class 'pandas.core.frame.DataFrame'>\n",
      "RangeIndex: 19020 entries, 0 to 19019\n",
      "Data columns (total 11 columns):\n",
      "fLength     19020 non-null float64\n",
      "fWidth      19020 non-null float64\n",
      "fSize       19020 non-null float64\n",
      "fConc       19020 non-null float64\n",
      "fConcl      19020 non-null float64\n",
      "fAsym       19020 non-null float64\n",
      "fM3Long     19020 non-null float64\n",
      "fM3Trans    19020 non-null float64\n",
      "fAlpha      19020 non-null float64\n",
      "fDist       19020 non-null float64\n",
      "class       19020 non-null object\n",
      "dtypes: float64(10), object(1)\n",
      "memory usage: 1.6+ MB\n"
     ]
    }
   ],
   "source": [
    "telescope_data.info()"
   ]
  },
  {
   "cell_type": "code",
   "execution_count": 7,
   "metadata": {
    "colab": {
     "base_uri": "https://localhost:8080/",
     "height": 297
    },
    "colab_type": "code",
    "id": "fm7HeyX2J0Ci",
    "outputId": "ae8fd573-9c38-42cd-95ed-74964e0faecf"
   },
   "outputs": [
    {
     "data": {
      "text/html": [
       "<div>\n",
       "<style scoped>\n",
       "    .dataframe tbody tr th:only-of-type {\n",
       "        vertical-align: middle;\n",
       "    }\n",
       "\n",
       "    .dataframe tbody tr th {\n",
       "        vertical-align: top;\n",
       "    }\n",
       "\n",
       "    .dataframe thead th {\n",
       "        text-align: right;\n",
       "    }\n",
       "</style>\n",
       "<table border=\"1\" class=\"dataframe\">\n",
       "  <thead>\n",
       "    <tr style=\"text-align: right;\">\n",
       "      <th></th>\n",
       "      <th>fLength</th>\n",
       "      <th>fWidth</th>\n",
       "      <th>fSize</th>\n",
       "      <th>fConc</th>\n",
       "      <th>fConcl</th>\n",
       "      <th>fAsym</th>\n",
       "      <th>fM3Long</th>\n",
       "      <th>fM3Trans</th>\n",
       "      <th>fAlpha</th>\n",
       "      <th>fDist</th>\n",
       "    </tr>\n",
       "  </thead>\n",
       "  <tbody>\n",
       "    <tr>\n",
       "      <th>count</th>\n",
       "      <td>19020.000000</td>\n",
       "      <td>19020.000000</td>\n",
       "      <td>19020.000000</td>\n",
       "      <td>19020.000000</td>\n",
       "      <td>19020.000000</td>\n",
       "      <td>19020.000000</td>\n",
       "      <td>19020.000000</td>\n",
       "      <td>19020.000000</td>\n",
       "      <td>19020.000000</td>\n",
       "      <td>19020.000000</td>\n",
       "    </tr>\n",
       "    <tr>\n",
       "      <th>mean</th>\n",
       "      <td>53.250154</td>\n",
       "      <td>22.180966</td>\n",
       "      <td>2.825017</td>\n",
       "      <td>0.380327</td>\n",
       "      <td>0.214657</td>\n",
       "      <td>-4.331745</td>\n",
       "      <td>10.545545</td>\n",
       "      <td>0.249726</td>\n",
       "      <td>27.645707</td>\n",
       "      <td>193.818026</td>\n",
       "    </tr>\n",
       "    <tr>\n",
       "      <th>std</th>\n",
       "      <td>42.364855</td>\n",
       "      <td>18.346056</td>\n",
       "      <td>0.472599</td>\n",
       "      <td>0.182813</td>\n",
       "      <td>0.110511</td>\n",
       "      <td>59.206062</td>\n",
       "      <td>51.000118</td>\n",
       "      <td>20.827439</td>\n",
       "      <td>26.103621</td>\n",
       "      <td>74.731787</td>\n",
       "    </tr>\n",
       "    <tr>\n",
       "      <th>min</th>\n",
       "      <td>4.283500</td>\n",
       "      <td>0.000000</td>\n",
       "      <td>1.941300</td>\n",
       "      <td>0.013100</td>\n",
       "      <td>0.000300</td>\n",
       "      <td>-457.916100</td>\n",
       "      <td>-331.780000</td>\n",
       "      <td>-205.894700</td>\n",
       "      <td>0.000000</td>\n",
       "      <td>1.282600</td>\n",
       "    </tr>\n",
       "    <tr>\n",
       "      <th>25%</th>\n",
       "      <td>24.336000</td>\n",
       "      <td>11.863800</td>\n",
       "      <td>2.477100</td>\n",
       "      <td>0.235800</td>\n",
       "      <td>0.128475</td>\n",
       "      <td>-20.586550</td>\n",
       "      <td>-12.842775</td>\n",
       "      <td>-10.849375</td>\n",
       "      <td>5.547925</td>\n",
       "      <td>142.492250</td>\n",
       "    </tr>\n",
       "    <tr>\n",
       "      <th>50%</th>\n",
       "      <td>37.147700</td>\n",
       "      <td>17.139900</td>\n",
       "      <td>2.739600</td>\n",
       "      <td>0.354150</td>\n",
       "      <td>0.196500</td>\n",
       "      <td>4.013050</td>\n",
       "      <td>15.314100</td>\n",
       "      <td>0.666200</td>\n",
       "      <td>17.679500</td>\n",
       "      <td>191.851450</td>\n",
       "    </tr>\n",
       "    <tr>\n",
       "      <th>75%</th>\n",
       "      <td>70.122175</td>\n",
       "      <td>24.739475</td>\n",
       "      <td>3.101600</td>\n",
       "      <td>0.503700</td>\n",
       "      <td>0.285225</td>\n",
       "      <td>24.063700</td>\n",
       "      <td>35.837800</td>\n",
       "      <td>10.946425</td>\n",
       "      <td>45.883550</td>\n",
       "      <td>240.563825</td>\n",
       "    </tr>\n",
       "    <tr>\n",
       "      <th>max</th>\n",
       "      <td>334.177000</td>\n",
       "      <td>256.382000</td>\n",
       "      <td>5.323300</td>\n",
       "      <td>0.893000</td>\n",
       "      <td>0.675200</td>\n",
       "      <td>575.240700</td>\n",
       "      <td>238.321000</td>\n",
       "      <td>179.851000</td>\n",
       "      <td>90.000000</td>\n",
       "      <td>495.561000</td>\n",
       "    </tr>\n",
       "  </tbody>\n",
       "</table>\n",
       "</div>"
      ],
      "text/plain": [
       "            fLength        fWidth         fSize         fConc        fConcl  \\\n",
       "count  19020.000000  19020.000000  19020.000000  19020.000000  19020.000000   \n",
       "mean      53.250154     22.180966      2.825017      0.380327      0.214657   \n",
       "std       42.364855     18.346056      0.472599      0.182813      0.110511   \n",
       "min        4.283500      0.000000      1.941300      0.013100      0.000300   \n",
       "25%       24.336000     11.863800      2.477100      0.235800      0.128475   \n",
       "50%       37.147700     17.139900      2.739600      0.354150      0.196500   \n",
       "75%       70.122175     24.739475      3.101600      0.503700      0.285225   \n",
       "max      334.177000    256.382000      5.323300      0.893000      0.675200   \n",
       "\n",
       "              fAsym       fM3Long      fM3Trans        fAlpha         fDist  \n",
       "count  19020.000000  19020.000000  19020.000000  19020.000000  19020.000000  \n",
       "mean      -4.331745     10.545545      0.249726     27.645707    193.818026  \n",
       "std       59.206062     51.000118     20.827439     26.103621     74.731787  \n",
       "min     -457.916100   -331.780000   -205.894700      0.000000      1.282600  \n",
       "25%      -20.586550    -12.842775    -10.849375      5.547925    142.492250  \n",
       "50%        4.013050     15.314100      0.666200     17.679500    191.851450  \n",
       "75%       24.063700     35.837800     10.946425     45.883550    240.563825  \n",
       "max      575.240700    238.321000    179.851000     90.000000    495.561000  "
      ]
     },
     "execution_count": 7,
     "metadata": {},
     "output_type": "execute_result"
    }
   ],
   "source": [
    "telescope_data.describe()"
   ]
  },
  {
   "cell_type": "markdown",
   "metadata": {
    "colab_type": "text",
    "id": "j-BRiEUqJ0Ck"
   },
   "source": [
    "Turns out all the features in the DataFrame are continuous in nature. The target variable/feature class is however *categorical*. You can check the counts of each class in the target variable using **value_counts()** method.\n"
   ]
  },
  {
   "cell_type": "code",
   "execution_count": 8,
   "metadata": {
    "colab": {
     "base_uri": "https://localhost:8080/",
     "height": 68
    },
    "colab_type": "code",
    "id": "fi8cEaapJ0Cl",
    "outputId": "0eb28005-67a7-4ef3-f10b-25e8a6a5065c"
   },
   "outputs": [
    {
     "data": {
      "text/plain": [
       "g    12332\n",
       "h     6688\n",
       "Name: class, dtype: int64"
      ]
     },
     "execution_count": 8,
     "metadata": {},
     "output_type": "execute_result"
    }
   ],
   "source": [
    "telescope_data['class'].value_counts()"
   ]
  },
  {
   "cell_type": "markdown",
   "metadata": {
    "colab_type": "text",
    "id": "zHPBGktyJ0Cm"
   },
   "source": [
    "It's generally a good idea to randomly **shuffle** the data before starting to avoid any type of ordering in the data. You can rearrange the data in the DataFrame using numpy's **random** and **permutation()** function. To reset the index numbers after the shuffle use **reset_index()** method with **drop = True** as a parameter."
   ]
  },
  {
   "cell_type": "code",
   "execution_count": 9,
   "metadata": {
    "colab": {
     "base_uri": "https://localhost:8080/",
     "height": 204
    },
    "colab_type": "code",
    "id": "zi1MhbJ8J0Cn",
    "outputId": "1e8d8eb5-9704-47e2-967f-38154c36c71d"
   },
   "outputs": [
    {
     "data": {
      "text/html": [
       "<div>\n",
       "<style scoped>\n",
       "    .dataframe tbody tr th:only-of-type {\n",
       "        vertical-align: middle;\n",
       "    }\n",
       "\n",
       "    .dataframe tbody tr th {\n",
       "        vertical-align: top;\n",
       "    }\n",
       "\n",
       "    .dataframe thead th {\n",
       "        text-align: right;\n",
       "    }\n",
       "</style>\n",
       "<table border=\"1\" class=\"dataframe\">\n",
       "  <thead>\n",
       "    <tr style=\"text-align: right;\">\n",
       "      <th></th>\n",
       "      <th>fLength</th>\n",
       "      <th>fWidth</th>\n",
       "      <th>fSize</th>\n",
       "      <th>fConc</th>\n",
       "      <th>fConcl</th>\n",
       "      <th>fAsym</th>\n",
       "      <th>fM3Long</th>\n",
       "      <th>fM3Trans</th>\n",
       "      <th>fAlpha</th>\n",
       "      <th>fDist</th>\n",
       "      <th>class</th>\n",
       "    </tr>\n",
       "  </thead>\n",
       "  <tbody>\n",
       "    <tr>\n",
       "      <th>0</th>\n",
       "      <td>54.3082</td>\n",
       "      <td>20.9217</td>\n",
       "      <td>3.0869</td>\n",
       "      <td>0.2120</td>\n",
       "      <td>0.1077</td>\n",
       "      <td>43.4423</td>\n",
       "      <td>41.3347</td>\n",
       "      <td>8.1936</td>\n",
       "      <td>8.7643</td>\n",
       "      <td>228.839</td>\n",
       "      <td>g</td>\n",
       "    </tr>\n",
       "    <tr>\n",
       "      <th>1</th>\n",
       "      <td>26.0211</td>\n",
       "      <td>9.5427</td>\n",
       "      <td>2.4005</td>\n",
       "      <td>0.5050</td>\n",
       "      <td>0.2883</td>\n",
       "      <td>-10.0603</td>\n",
       "      <td>11.2665</td>\n",
       "      <td>-4.0374</td>\n",
       "      <td>10.2299</td>\n",
       "      <td>144.926</td>\n",
       "      <td>g</td>\n",
       "    </tr>\n",
       "    <tr>\n",
       "      <th>2</th>\n",
       "      <td>12.7568</td>\n",
       "      <td>11.5659</td>\n",
       "      <td>2.1287</td>\n",
       "      <td>0.7063</td>\n",
       "      <td>0.4052</td>\n",
       "      <td>-15.4452</td>\n",
       "      <td>9.2566</td>\n",
       "      <td>5.7565</td>\n",
       "      <td>16.3420</td>\n",
       "      <td>93.382</td>\n",
       "      <td>g</td>\n",
       "    </tr>\n",
       "    <tr>\n",
       "      <th>3</th>\n",
       "      <td>54.9287</td>\n",
       "      <td>14.8781</td>\n",
       "      <td>3.0292</td>\n",
       "      <td>0.2609</td>\n",
       "      <td>0.1407</td>\n",
       "      <td>61.8659</td>\n",
       "      <td>41.1847</td>\n",
       "      <td>7.0632</td>\n",
       "      <td>8.8310</td>\n",
       "      <td>216.123</td>\n",
       "      <td>g</td>\n",
       "    </tr>\n",
       "    <tr>\n",
       "      <th>4</th>\n",
       "      <td>68.9406</td>\n",
       "      <td>22.4181</td>\n",
       "      <td>3.4740</td>\n",
       "      <td>0.2088</td>\n",
       "      <td>0.1086</td>\n",
       "      <td>4.9539</td>\n",
       "      <td>-48.0547</td>\n",
       "      <td>13.1792</td>\n",
       "      <td>0.2790</td>\n",
       "      <td>220.469</td>\n",
       "      <td>g</td>\n",
       "    </tr>\n",
       "  </tbody>\n",
       "</table>\n",
       "</div>"
      ],
      "text/plain": [
       "   fLength   fWidth   fSize   fConc  fConcl    fAsym  fM3Long  fM3Trans  \\\n",
       "0  54.3082  20.9217  3.0869  0.2120  0.1077  43.4423  41.3347    8.1936   \n",
       "1  26.0211   9.5427  2.4005  0.5050  0.2883 -10.0603  11.2665   -4.0374   \n",
       "2  12.7568  11.5659  2.1287  0.7063  0.4052 -15.4452   9.2566    5.7565   \n",
       "3  54.9287  14.8781  3.0292  0.2609  0.1407  61.8659  41.1847    7.0632   \n",
       "4  68.9406  22.4181  3.4740  0.2088  0.1086   4.9539 -48.0547   13.1792   \n",
       "\n",
       "    fAlpha    fDist class  \n",
       "0   8.7643  228.839     g  \n",
       "1  10.2299  144.926     g  \n",
       "2  16.3420   93.382     g  \n",
       "3   8.8310  216.123     g  \n",
       "4   0.2790  220.469     g  "
      ]
     },
     "execution_count": 9,
     "metadata": {},
     "output_type": "execute_result"
    }
   ],
   "source": [
    "telescope_shuffle=telescope_data.iloc[np.random.permutation(len(telescope_data))]\n",
    "tele=telescope_shuffle.reset_index(drop=True)\n",
    "tele.head()"
   ]
  },
  {
   "cell_type": "markdown",
   "metadata": {
    "colab_type": "text",
    "id": "vj0rS3uhJ0Cr"
   },
   "source": [
    "### Label Your Target\n",
    "\n",
    "Before using tpot, it is essential you do the labeling of categorical variables in your DataFrame. To learn more about labeling categorical variables check out this tutorial. Here only the target variable class is the *categorical* feature, hence the treatment should be done to that column. \n",
    "\n",
    "You will replace the **g** class (signal) with a numerical value **0** and **h** class (background) with numerical value **1**. This can be achieved via **map()** function with the argument as a dictionary which holds the respective mapping of the classes of the target variable.\n",
    "\n",
    "**NOTE:** in practice, this is usually done by the [label encoder](http://scikit-learn.org/stable/modules/generated/sklearn.preprocessing.LabelEncoder.html) or [one-hot encoder](http://scikit-learn.org/stable/modules/generated/sklearn.preprocessing.OneHotEncoder.html) provided with scikit-learn."
   ]
  },
  {
   "cell_type": "code",
   "execution_count": 10,
   "metadata": {
    "colab": {
     "base_uri": "https://localhost:8080/",
     "height": 204
    },
    "colab_type": "code",
    "id": "i3KKoZxYJ0Cr",
    "outputId": "7a8bd445-f99b-415d-b028-339123166246"
   },
   "outputs": [
    {
     "data": {
      "text/html": [
       "<div>\n",
       "<style scoped>\n",
       "    .dataframe tbody tr th:only-of-type {\n",
       "        vertical-align: middle;\n",
       "    }\n",
       "\n",
       "    .dataframe tbody tr th {\n",
       "        vertical-align: top;\n",
       "    }\n",
       "\n",
       "    .dataframe thead th {\n",
       "        text-align: right;\n",
       "    }\n",
       "</style>\n",
       "<table border=\"1\" class=\"dataframe\">\n",
       "  <thead>\n",
       "    <tr style=\"text-align: right;\">\n",
       "      <th></th>\n",
       "      <th>fLength</th>\n",
       "      <th>fWidth</th>\n",
       "      <th>fSize</th>\n",
       "      <th>fConc</th>\n",
       "      <th>fConcl</th>\n",
       "      <th>fAsym</th>\n",
       "      <th>fM3Long</th>\n",
       "      <th>fM3Trans</th>\n",
       "      <th>fAlpha</th>\n",
       "      <th>fDist</th>\n",
       "      <th>class</th>\n",
       "    </tr>\n",
       "  </thead>\n",
       "  <tbody>\n",
       "    <tr>\n",
       "      <th>0</th>\n",
       "      <td>54.3082</td>\n",
       "      <td>20.9217</td>\n",
       "      <td>3.0869</td>\n",
       "      <td>0.2120</td>\n",
       "      <td>0.1077</td>\n",
       "      <td>43.4423</td>\n",
       "      <td>41.3347</td>\n",
       "      <td>8.1936</td>\n",
       "      <td>8.7643</td>\n",
       "      <td>228.839</td>\n",
       "      <td>0</td>\n",
       "    </tr>\n",
       "    <tr>\n",
       "      <th>1</th>\n",
       "      <td>26.0211</td>\n",
       "      <td>9.5427</td>\n",
       "      <td>2.4005</td>\n",
       "      <td>0.5050</td>\n",
       "      <td>0.2883</td>\n",
       "      <td>-10.0603</td>\n",
       "      <td>11.2665</td>\n",
       "      <td>-4.0374</td>\n",
       "      <td>10.2299</td>\n",
       "      <td>144.926</td>\n",
       "      <td>0</td>\n",
       "    </tr>\n",
       "    <tr>\n",
       "      <th>2</th>\n",
       "      <td>12.7568</td>\n",
       "      <td>11.5659</td>\n",
       "      <td>2.1287</td>\n",
       "      <td>0.7063</td>\n",
       "      <td>0.4052</td>\n",
       "      <td>-15.4452</td>\n",
       "      <td>9.2566</td>\n",
       "      <td>5.7565</td>\n",
       "      <td>16.3420</td>\n",
       "      <td>93.382</td>\n",
       "      <td>0</td>\n",
       "    </tr>\n",
       "    <tr>\n",
       "      <th>3</th>\n",
       "      <td>54.9287</td>\n",
       "      <td>14.8781</td>\n",
       "      <td>3.0292</td>\n",
       "      <td>0.2609</td>\n",
       "      <td>0.1407</td>\n",
       "      <td>61.8659</td>\n",
       "      <td>41.1847</td>\n",
       "      <td>7.0632</td>\n",
       "      <td>8.8310</td>\n",
       "      <td>216.123</td>\n",
       "      <td>0</td>\n",
       "    </tr>\n",
       "    <tr>\n",
       "      <th>4</th>\n",
       "      <td>68.9406</td>\n",
       "      <td>22.4181</td>\n",
       "      <td>3.4740</td>\n",
       "      <td>0.2088</td>\n",
       "      <td>0.1086</td>\n",
       "      <td>4.9539</td>\n",
       "      <td>-48.0547</td>\n",
       "      <td>13.1792</td>\n",
       "      <td>0.2790</td>\n",
       "      <td>220.469</td>\n",
       "      <td>0</td>\n",
       "    </tr>\n",
       "  </tbody>\n",
       "</table>\n",
       "</div>"
      ],
      "text/plain": [
       "   fLength   fWidth   fSize   fConc  fConcl    fAsym  fM3Long  fM3Trans  \\\n",
       "0  54.3082  20.9217  3.0869  0.2120  0.1077  43.4423  41.3347    8.1936   \n",
       "1  26.0211   9.5427  2.4005  0.5050  0.2883 -10.0603  11.2665   -4.0374   \n",
       "2  12.7568  11.5659  2.1287  0.7063  0.4052 -15.4452   9.2566    5.7565   \n",
       "3  54.9287  14.8781  3.0292  0.2609  0.1407  61.8659  41.1847    7.0632   \n",
       "4  68.9406  22.4181  3.4740  0.2088  0.1086   4.9539 -48.0547   13.1792   \n",
       "\n",
       "    fAlpha    fDist  class  \n",
       "0   8.7643  228.839      0  \n",
       "1  10.2299  144.926      0  \n",
       "2  16.3420   93.382      0  \n",
       "3   8.8310  216.123      0  \n",
       "4   0.2790  220.469      0  "
      ]
     },
     "execution_count": 10,
     "metadata": {},
     "output_type": "execute_result"
    }
   ],
   "source": [
    "tele['class']=tele['class'].map({'g':0,'h':1})\n",
    "tele.head()"
   ]
  },
  {
   "cell_type": "markdown",
   "metadata": {
    "colab_type": "text",
    "id": "_YUIaadoJ0Ct"
   },
   "source": [
    "Now you store the class labels, which you need to predict, in a separate variable *tele_class*."
   ]
  },
  {
   "cell_type": "code",
   "execution_count": 11,
   "metadata": {
    "colab": {},
    "colab_type": "code",
    "id": "c6io8HP7J0Cu"
   },
   "outputs": [],
   "source": [
    "tele_class = tele['class'].values"
   ]
  },
  {
   "cell_type": "markdown",
   "metadata": {
    "colab_type": "text",
    "id": "xLkpxruCJ0Cv"
   },
   "source": [
    "### MIssing Value Handling\n",
    "\n",
    "You should also do missing value treatment before using *tpot*. To check the number of missing values column-wise, you can execute the following:"
   ]
  },
  {
   "cell_type": "code",
   "execution_count": 12,
   "metadata": {
    "colab": {
     "base_uri": "https://localhost:8080/",
     "height": 221
    },
    "colab_type": "code",
    "id": "-M9N8vfCJ0Cw",
    "outputId": "b5e99e4c-1680-4d54-a354-4bef89f286d3"
   },
   "outputs": [
    {
     "data": {
      "text/plain": [
       "fLength     False\n",
       "fWidth      False\n",
       "fSize       False\n",
       "fConc       False\n",
       "fConcl      False\n",
       "fAsym       False\n",
       "fM3Long     False\n",
       "fM3Trans    False\n",
       "fAlpha      False\n",
       "fDist       False\n",
       "class       False\n",
       "dtype: bool"
      ]
     },
     "execution_count": 12,
     "metadata": {},
     "output_type": "execute_result"
    }
   ],
   "source": [
    "pd.isnull(tele).any()"
   ]
  },
  {
   "cell_type": "markdown",
   "metadata": {
    "colab_type": "text",
    "id": "5Sp8XVhRJ0Cx"
   },
   "source": [
    "This dataset doesn't have any missing values. Note in datasets with missing values you can either drop the rows/columns using dropna() method or replace the missing value with some dummy value using fillna() method. For example, the following chunk of code will replace the NA values with a dummy value -999."
   ]
  },
  {
   "cell_type": "markdown",
   "metadata": {
    "colab_type": "raw",
    "id": "6mZatlaBJ0Cy"
   },
   "source": [
    "```python\n",
    "    tele = tele.fillna(-999)\n",
    "```"
   ]
  },
  {
   "cell_type": "markdown",
   "metadata": {
    "colab_type": "text",
    "id": "bHCCtk8KJ0Cy"
   },
   "source": [
    "You will now split the DataFrame into a training set and a testing set just like you do while doing any type of machine learning modeling. You can do this via sklearn's **cross_validation** **train_test_split**. The parameters are tele.index as indexes of the DataFrame, *train_size = 0.75* to keep 75% of the data in training set, *test_size = 0.25* to keep the rest 25% data in testing set and stratify = tele_class the class label's values in the dataset. Note the validation set is just to give us an idea of the test set error. Here it is kept to be the same as a test set."
   ]
  },
  {
   "cell_type": "code",
   "execution_count": 13,
   "metadata": {
    "colab": {},
    "colab_type": "code",
    "id": "BXHzw1SjJ0Cy"
   },
   "outputs": [],
   "source": [
    "from sklearn.model_selection import train_test_split\n",
    "training_indices, testing_indices = train_test_split(tele.index,\n",
    "                                                        stratify = tele_class,\n",
    "                                                        train_size=0.75, test_size=0.25, random_state = 2019)\n"
   ]
  },
  {
   "cell_type": "markdown",
   "metadata": {
    "colab_type": "text",
    "id": "ntNQ4-CkJ0C0"
   },
   "source": [
    "You can check the size of the training set and validation set using the size attribute."
   ]
  },
  {
   "cell_type": "code",
   "execution_count": 14,
   "metadata": {
    "colab": {
     "base_uri": "https://localhost:8080/",
     "height": 34
    },
    "colab_type": "code",
    "id": "sKQlGFLiJ0C1",
    "outputId": "c3c4aa3c-0d61-4f30-b50a-4ee2c96c9cab"
   },
   "outputs": [
    {
     "data": {
      "text/plain": [
       "(14265, 4755)"
      ]
     },
     "execution_count": 14,
     "metadata": {},
     "output_type": "execute_result"
    }
   ],
   "source": [
    "training_indices.size, testing_indices.size"
   ]
  },
  {
   "cell_type": "markdown",
   "metadata": {
    "colab_type": "text",
    "id": "L6oj4kkkJ0C3"
   },
   "source": [
    "Now it's time to use the **tpot** library to suggest us the best pipeline for this binary classification problem. To do so, you have to import **TPOTClassifier** class from the tpot library. Had this been a regression problem you would have imported **TPOTRegressor** class.\n",
    "\n",
    "**TPOTClassifier** has a wide variety of parameters, and you can read all about them here. But the most notable ones you must know are:\n",
    "\n",
    "- generations: Number of iterations to the run pipeline optimization process. The default is `100`.\n",
    "- population_size: Number of individuals to retain in the genetic programming population every generation. The default is `100`.\n",
    "- offspring_size: Number of offspring to produce in each genetic programming generation. The default is `100`.\n",
    "- mutation_rate: Mutation rate for the genetic programming algorithm in the range `[0.0, 1.0]`. This parameter tells the GP algorithm how many pipelines to apply random changes to every generation. Default is `0.9`.\n",
    "- crossover_rate: Crossover rate for the genetic programming algorithm in the range `[0.0, 1.0]`. This parameter tells the genetic programming algorithm how many pipelines to \"breed\" every generation.\n",
    "- scoring: Function used to evaluate the quality of a given pipeline for the classification problem like `accuracy, average_precision, roc_auc, recall`, etc. The default is `accuracy`.\n",
    "- cv: Cross-validation strategy used when evaluating pipelines. The default is `5`.\n",
    "- random_state: The seed of the pseudo-random number generator used in TPOT. Use this parameter to make sure that TPOT will give you the same results each time you run it against the same data set with that seed.\n",
    "\n",
    "Also note mutation_rate + crossover_rate cannot exceed **1.0**.\n",
    "\n",
    "Here you will use tpot with generations = 5 and the rest of the parameters at default values. The parameter verbosity = 2 states how much information TPOT communicates while it's running.\n",
    "\n",
    "Then you will call the `fit()` method with the training set (without the target column) and the target column as the arguments.\n",
    "\n",
    "Note running the code in the below cell will take several hours to finish. With the given TPOT settings (5 generations with 100 population size), TPOT will evaluate 500 pipeline configurations before finishing. To put this number into context, think about a grid search of 500 hyperparameter combinations for a machine learning algorithm and how long that grid search will take. That is 500 model configurations to evaluate with 5-fold cross-validation, which means that roughly 2500 models are fit and evaluated on the training data in one grid search. That's a time-consuming procedure! Later, you will get to know about some more arguments that you can pass to TPOTClassifier to control the execution time for TPOT to finish.\n",
    "\n",
    "__NOTE__: be careful running this step - takes ~2 hours to run!"
   ]
  },
  {
   "cell_type": "code",
   "execution_count": 15,
   "metadata": {
    "colab": {},
    "colab_type": "code",
    "id": "n76X7LrmKn4L"
   },
   "outputs": [],
   "source": [
    "#### install TPOT\n",
    "# !pip install tpot"
   ]
  },
  {
   "cell_type": "code",
   "execution_count": 16,
   "metadata": {
    "colab": {
     "base_uri": "https://localhost:8080/",
     "height": 275,
     "referenced_widgets": [
      "b78f0ff7621f43159a22b236f40bd085",
      "4f6a8958ecdc4639a23d106df60f5840",
      "5f9fb5b9cc1443ecb895689fd05909f6",
      "cca6e82465834f01a668df24b4eeac69",
      "5ae9533c8af14d57ba9309f9a81a2c61",
      "fa99bdb4f80f4cbb8f20f07744f47a10",
      "955caec31192418c868f95c94dc5cb83",
      "adc5347f1340483493c2c92031bddb8d"
     ]
    },
    "colab_type": "code",
    "id": "zTFtQBPkJ0C3",
    "outputId": "60e48efe-737f-4db7-d7fa-a8a5f9aa97a5"
   },
   "outputs": [
    {
     "name": "stderr",
     "output_type": "stream",
     "text": [
      "/home/tao/anaconda3/envs/tf_gpu/lib/python3.7/site-packages/sklearn/ensemble/weight_boosting.py:29: DeprecationWarning: numpy.core.umath_tests is an internal NumPy module and should not be imported. It will be removed in a future NumPy release.\n",
      "  from numpy.core.umath_tests import inner1d\n"
     ]
    },
    {
     "data": {
      "application/vnd.jupyter.widget-view+json": {
       "model_id": "",
       "version_major": 2,
       "version_minor": 0
      },
      "text/plain": [
       "HBox(children=(FloatProgress(value=0.0, description='Optimization Progress', max=600.0, style=ProgressStyle(de…"
      ]
     },
     "metadata": {},
     "output_type": "display_data"
    },
    {
     "name": "stdout",
     "output_type": "stream",
     "text": [
      "Generation 1 - Current best internal CV score: 0.8733966641204282\n",
      "Generation 2 - Current best internal CV score: 0.8750790792846349\n",
      "Generation 3 - Current best internal CV score: 0.8756394993416438\n",
      "Generation 4 - Current best internal CV score: 0.8757099203027732\n",
      "Generation 5 - Current best internal CV score: 0.8772516651383926\n",
      "\n",
      "Best pipeline: GradientBoostingClassifier(MaxAbsScaler(input_matrix), learning_rate=0.1, max_depth=6, max_features=0.9000000000000001, min_samples_leaf=6, min_samples_split=17, n_estimators=100, subsample=0.7500000000000001)\n"
     ]
    },
    {
     "data": {
      "text/plain": [
       "TPOTClassifier(config_dict=None, crossover_rate=0.1, cv=5,\n",
       "        disable_update_check=False, early_stop=None, generations=5,\n",
       "        max_eval_time_mins=5, max_time_mins=None, memory=None,\n",
       "        mutation_rate=0.9, n_jobs=-1, offspring_size=None,\n",
       "        periodic_checkpoint_folder=None, population_size=100,\n",
       "        random_state=None, scoring=None, subsample=1.0, template=None,\n",
       "        use_dask=False, verbosity=2, warm_start=False)"
      ]
     },
     "execution_count": 16,
     "metadata": {},
     "output_type": "execute_result"
    }
   ],
   "source": [
    "from tpot import TPOTClassifier\n",
    "# from tpot import TPOTRegressor # for regression tasks\n",
    "\n",
    "tpot = TPOTClassifier(generations=5,verbosity=2, n_jobs=-1)\n",
    "\n",
    "tpot.fit(tele.drop('class',axis=1).loc[training_indices].values, # X_train\n",
    "         tele.loc[training_indices,'class'].values) # y_train"
   ]
  },
  {
   "cell_type": "markdown",
   "metadata": {
    "colab_type": "text",
    "id": "b_PuFq4KJ0C5"
   },
   "source": [
    "In the above, 5 generations were computed, each giving the training efficiency of the fitting model on the training set. As evident, the best pipeline is the one that has the CV accuracy score of **88.12%**. The model that produces this result is the pipeline, consisting of pre-processing techniques like `PloynomialFeatures` and then `RobustScaler` that adds synthetic features to the input data and normalizes them, which then get utilized by a Gradient Boosting classifier to form the final predictions. You can also notice that tpot gives various hyper-parameter values like `learning_rate`, `max_depth`, etc., also along with the classifier.\n",
    "\n",
    "One of the key difference here is we use both `X_test` and `y_test` in the code below, since the `.score()` method below combines the __prediction__ and __evaluation__ in the same step."
   ]
  },
  {
   "cell_type": "code",
   "execution_count": 17,
   "metadata": {
    "colab": {},
    "colab_type": "code",
    "id": "ZPssRymIJ0C5",
    "outputId": "0bc5a3aa-6335-4118-b020-22150a0737b3"
   },
   "outputs": [
    {
     "data": {
      "text/plain": [
       "0.8916929547844374"
      ]
     },
     "execution_count": 17,
     "metadata": {},
     "output_type": "execute_result"
    }
   ],
   "source": [
    "tpot.score(tele.drop('class',axis=1).loc[testing_indices].values, #X_test\n",
    "           tele.loc[testing_indices, 'class'].values) # y_test"
   ]
  },
  {
   "cell_type": "markdown",
   "metadata": {
    "colab_type": "text",
    "id": "dCJNkLHsJ0C7"
   },
   "source": [
    "As can be seen, the test accuracy is **89.16%.**\n",
    "\n"
   ]
  },
  {
   "cell_type": "markdown",
   "metadata": {
    "colab_type": "text",
    "id": "zEy3t7mKJ0C7"
   },
   "source": [
    "Isn't that awesome? Without you tweaking a lot of parameters and options to get the best model, TPOT not only gave you the information about the best model but also a working code for it!\n",
    "\n",
    "As indicated earlier, the last TPOT run took *several hours* to finish. Well, there are certain parameters you can specify to control the execution time of TPOT but with a trade-off. Since you will be limiting the time of TPOT execution, TPOT won't be able to explore all the possible pipelines and hence the best model suggested by TPOT at the end of the constrained time limit may not be the best model possible for that dataset. \n",
    "\n",
    "However, if sufficient time is given it will be somewhat closer to the best possible model. Some parameters are:\n",
    "\n",
    "- **max_time_mins**: how many minutes TPOT has to optimize the pipeline. If not None, this setting will override the generations parameter and allow TPOT to run until max_time_mins minutes elapse.\n",
    "- **max_eval_time_mins**: how many minutes TPOT has to evaluate a single pipeline. Setting this parameter to higher values will enable TPOT to evaluate more complex pipelines, but will also allow TPOT to run longer. Use this parameter to help prevent TPOT from wasting time on assessing time-consuming pipelines. The default is 5.\n",
    "- **early_stop**: how many generations TPOT checks whether there is no improvement in the optimization process. Ends the optimization process if there is no improvement in the given number of generations.\n",
    "- **n_jobs**: Number of procedures to use in parallel for evaluating pipelines during the TPOT optimization process. Setting n_jobs=-1 will use as many cores as available on the computer. Beware that using multiple methods on the same machine may cause memory issues for large datasets. The default is 1.\n",
    "- **subsample**: Fraction of training samples that are used during the TPOT optimization process. Must be in the range (0.0, 1.0]. The default is 1.\n",
    "\n",
    "Just for practice, you will again run TPOT with additional arguments `max_time_mins = 10` and `max_eval_time_mins = 0.4` but this time with reduced `population_size = 15`. I also setup an early stopping rule - if the model performance does not improve in `10` consecutive generations, the training process will stop.\n",
    "\n",
    "If you do not want to wait hours for your TPOT model, this might be the way to go!"
   ]
  },
  {
   "cell_type": "code",
   "execution_count": 20,
   "metadata": {
    "colab": {},
    "colab_type": "code",
    "id": "hUH4u2cmJ0C8",
    "outputId": "98bbbfd6-f50f-4931-b9e6-a3a04cf9d28b"
   },
   "outputs": [
    {
     "data": {
      "application/vnd.jupyter.widget-view+json": {
       "model_id": "",
       "version_major": 2,
       "version_minor": 0
      },
      "text/plain": [
       "HBox(children=(FloatProgress(value=0.0, description='Optimization Progress', max=15.0, style=ProgressStyle(des…"
      ]
     },
     "metadata": {},
     "output_type": "display_data"
    },
    {
     "name": "stdout",
     "output_type": "stream",
     "text": [
      "Generation 1 - Current best internal CV score: 0.8708027065457085\n",
      "Generation 2 - Current best internal CV score: 0.8708027065457085\n",
      "Generation 3 - Current best internal CV score: 0.8708027065457085\n",
      "Generation 4 - Current best internal CV score: 0.8708027065457085\n",
      "Generation 5 - Current best internal CV score: 0.8708027065457085\n",
      "\n",
      "The optimized pipeline was not improved after evaluating 10 more generations. Will end the optimization process.\n",
      "\n",
      "TPOT closed prematurely. Will use the current best pipeline.\n",
      "\n",
      "Best pipeline: RandomForestClassifier(input_matrix, bootstrap=True, criterion=gini, max_features=0.1, min_samples_leaf=1, min_samples_split=17, n_estimators=100)\n"
     ]
    },
    {
     "data": {
      "text/plain": [
       "TPOTClassifier(config_dict=None, crossover_rate=0.1, cv=5,\n",
       "        disable_update_check=False, early_stop=10, generations=1000000,\n",
       "        max_eval_time_mins=0.4, max_time_mins=10, memory=None,\n",
       "        mutation_rate=0.9, n_jobs=30, offspring_size=None,\n",
       "        periodic_checkpoint_folder=None, population_size=15,\n",
       "        random_state=None, scoring=None, subsample=1.0, template=None,\n",
       "        use_dask=False, verbosity=2, warm_start=False)"
      ]
     },
     "execution_count": 20,
     "metadata": {},
     "output_type": "execute_result"
    }
   ],
   "source": [
    "tpot = TPOTClassifier(verbosity=2, max_time_mins=10, \n",
    "                      max_eval_time_mins=0.4, population_size=15, early_stop=10, n_jobs=-1)\n",
    "tpot.fit(tele.drop('class',axis=1).loc[training_indices].values, # X_train\n",
    "         tele.loc[training_indices,'class'].values) # y_train"
   ]
  },
  {
   "cell_type": "code",
   "execution_count": 21,
   "metadata": {},
   "outputs": [
    {
     "data": {
      "text/plain": [
       "0.8837013669821241"
      ]
     },
     "execution_count": 21,
     "metadata": {},
     "output_type": "execute_result"
    }
   ],
   "source": [
    "tpot.score(tele.drop('class',axis=1).loc[testing_indices].values, #X_test\n",
    "           tele.loc[testing_indices, 'class'].values) # y_test"
   ]
  },
  {
   "cell_type": "markdown",
   "metadata": {
    "colab_type": "text",
    "id": "00W9SeYmJ0C9"
   },
   "source": [
    "As you can notice the best performing classifier within the time frame specified is now XGBoost with `SelectPercentile()` and `RobustScaler()` as the pre-processing steps. But you notice that the accurracy declined to `88.37%`.\n",
    "\n",
    "After you trained your best model, you can always export the pipeline as a file and use it without any training (we know training takes a lot of time).\n",
    "\n",
    "You can export the above trained pipeline as (assume you have a `model` subfolder in your repo):\n",
    "```python\n",
    "tpot.export('tpot_exported_pipeline.py')\n",
    "```\n",
    "\n",
    "Then in your subsequent analysis, you can import this `.py` file and then use the `tpot.score()` method to evaluate/deploy the model on _new, unseen_ data.\n",
    "\n",
    "For more examples of using TPOT for machine learning, refer to [these examples](https://epistasislab.github.io/tpot/examples/)."
   ]
  },
  {
   "cell_type": "markdown",
   "metadata": {
    "colab_type": "text",
    "id": "EY6i4jlzJ0C-"
   },
   "source": [
    "# Limitations\n",
    "\n",
    "- **TPOT can take a long time to finish its search**\n",
    "\n",
    "Running TPOT isn’t as simple as fitting one model on the dataset. It is considering multiple machine learning algorithms (random forests, linear models, SVMs, etc.) in a pipeline with numerous preprocessing steps (missing value imputation, scaling, PCA, feature selection, etc.), the hyper-parameters for all of the models and preprocessing steps, as well as multiple ways to ensemble or stack the algorithms within the pipeline. That’s why it usually takes a long time to execute and isn’t feasible for large datasets.\n",
    "\n",
    "- **TPOT can recommend different solutions for the same dataset**\n",
    "\n",
    "If you're working with a reasonably complex dataset or run TPOT for a short amount of time, different TPOT runs may result in different pipeline recommendations. When two TPOT runs recommend different pipelines, this means that the TPOT runs didn't converge due to lack of time or that multiple pipelines perform more-or-less the same on your dataset. If that is the case, you can always use the __voting__ mechanism in the __ensemble learning__ to combine the models together.\n",
    "\n",
    "# Conclusion\n",
    "\n",
    "Hurray! You have come to the end of this tutorial. You started with a little introduction about the idea behind Automated Machine Learning platforms. Then you explored a bit on Genetic Programming and how TPOT uses it to automate the machine learning pipeline building process. You also practiced using the TPOT library in Python on a dataset along with gaining knowledge about the functions it provides. If you plan to use TPOT in the future, I strongly suggest you look at its excellent [documentation](http://epistasislab.github.io/tpot/). Happy Exploring!\n",
    "\n",
    "If you would like to learn more about Machine Learning in Python, take DataCamp's [Machine Learning with Tree-Based Models in Python](https://www.datacamp.com/courses/machine-learning-with-tree-based-models-in-python) course.\n",
    "\n",
    "The following web pages were used as sources in writing this tutorial.\n",
    "\n",
    "- [Classification](http://epistasislab.github.io/tpot/api/)\n",
    "- [What to expect from AutoML software](https://epistasislab.github.io/tpot/using/)"
   ]
  },
  {
   "cell_type": "code",
   "execution_count": null,
   "metadata": {
    "colab": {},
    "colab_type": "code",
    "id": "5FgUVeGNJ0C-"
   },
   "outputs": [],
   "source": []
  }
 ],
 "metadata": {
  "colab": {
   "collapsed_sections": [],
   "name": "TPOT_tutorial_v1.ipynb",
   "provenance": []
  },
  "kernelspec": {
   "display_name": "Python [conda env:tf_gpu] *",
   "language": "python",
   "name": "conda-env-tf_gpu-py"
  },
  "language_info": {
   "codemirror_mode": {
    "name": "ipython",
    "version": 3
   },
   "file_extension": ".py",
   "mimetype": "text/x-python",
   "name": "python",
   "nbconvert_exporter": "python",
   "pygments_lexer": "ipython3",
   "version": "3.7.5"
  },
  "widgets": {
   "application/vnd.jupyter.widget-state+json": {
    "4f6a8958ecdc4639a23d106df60f5840": {
     "model_module": "@jupyter-widgets/base",
     "model_name": "LayoutModel",
     "state": {
      "_model_module": "@jupyter-widgets/base",
      "_model_module_version": "1.2.0",
      "_model_name": "LayoutModel",
      "_view_count": null,
      "_view_module": "@jupyter-widgets/base",
      "_view_module_version": "1.2.0",
      "_view_name": "LayoutView",
      "align_content": null,
      "align_items": null,
      "align_self": null,
      "border": null,
      "bottom": null,
      "display": null,
      "flex": null,
      "flex_flow": null,
      "grid_area": null,
      "grid_auto_columns": null,
      "grid_auto_flow": null,
      "grid_auto_rows": null,
      "grid_column": null,
      "grid_gap": null,
      "grid_row": null,
      "grid_template_areas": null,
      "grid_template_columns": null,
      "grid_template_rows": null,
      "height": null,
      "justify_content": null,
      "justify_items": null,
      "left": null,
      "margin": null,
      "max_height": null,
      "max_width": null,
      "min_height": null,
      "min_width": null,
      "object_fit": null,
      "object_position": null,
      "order": null,
      "overflow": null,
      "overflow_x": null,
      "overflow_y": null,
      "padding": null,
      "right": null,
      "top": null,
      "visibility": null,
      "width": null
     }
    },
    "5ae9533c8af14d57ba9309f9a81a2c61": {
     "model_module": "@jupyter-widgets/controls",
     "model_name": "ProgressStyleModel",
     "state": {
      "_model_module": "@jupyter-widgets/controls",
      "_model_module_version": "1.5.0",
      "_model_name": "ProgressStyleModel",
      "_view_count": null,
      "_view_module": "@jupyter-widgets/base",
      "_view_module_version": "1.2.0",
      "_view_name": "StyleView",
      "bar_color": null,
      "description_width": "initial"
     }
    },
    "5f9fb5b9cc1443ecb895689fd05909f6": {
     "model_module": "@jupyter-widgets/controls",
     "model_name": "IntProgressModel",
     "state": {
      "_dom_classes": [],
      "_model_module": "@jupyter-widgets/controls",
      "_model_module_version": "1.5.0",
      "_model_name": "IntProgressModel",
      "_view_count": null,
      "_view_module": "@jupyter-widgets/controls",
      "_view_module_version": "1.5.0",
      "_view_name": "ProgressView",
      "bar_style": "",
      "description": "Optimization Progress: 100%",
      "description_tooltip": null,
      "layout": "IPY_MODEL_fa99bdb4f80f4cbb8f20f07744f47a10",
      "max": 600,
      "min": 0,
      "orientation": "horizontal",
      "style": "IPY_MODEL_5ae9533c8af14d57ba9309f9a81a2c61",
      "value": 600
     }
    },
    "955caec31192418c868f95c94dc5cb83": {
     "model_module": "@jupyter-widgets/controls",
     "model_name": "DescriptionStyleModel",
     "state": {
      "_model_module": "@jupyter-widgets/controls",
      "_model_module_version": "1.5.0",
      "_model_name": "DescriptionStyleModel",
      "_view_count": null,
      "_view_module": "@jupyter-widgets/base",
      "_view_module_version": "1.2.0",
      "_view_name": "StyleView",
      "description_width": ""
     }
    },
    "adc5347f1340483493c2c92031bddb8d": {
     "model_module": "@jupyter-widgets/base",
     "model_name": "LayoutModel",
     "state": {
      "_model_module": "@jupyter-widgets/base",
      "_model_module_version": "1.2.0",
      "_model_name": "LayoutModel",
      "_view_count": null,
      "_view_module": "@jupyter-widgets/base",
      "_view_module_version": "1.2.0",
      "_view_name": "LayoutView",
      "align_content": null,
      "align_items": null,
      "align_self": null,
      "border": null,
      "bottom": null,
      "display": null,
      "flex": null,
      "flex_flow": null,
      "grid_area": null,
      "grid_auto_columns": null,
      "grid_auto_flow": null,
      "grid_auto_rows": null,
      "grid_column": null,
      "grid_gap": null,
      "grid_row": null,
      "grid_template_areas": null,
      "grid_template_columns": null,
      "grid_template_rows": null,
      "height": null,
      "justify_content": null,
      "justify_items": null,
      "left": null,
      "margin": null,
      "max_height": null,
      "max_width": null,
      "min_height": null,
      "min_width": null,
      "object_fit": null,
      "object_position": null,
      "order": null,
      "overflow": null,
      "overflow_x": null,
      "overflow_y": null,
      "padding": null,
      "right": null,
      "top": null,
      "visibility": null,
      "width": null
     }
    },
    "b78f0ff7621f43159a22b236f40bd085": {
     "model_module": "@jupyter-widgets/controls",
     "model_name": "HBoxModel",
     "state": {
      "_dom_classes": [],
      "_model_module": "@jupyter-widgets/controls",
      "_model_module_version": "1.5.0",
      "_model_name": "HBoxModel",
      "_view_count": null,
      "_view_module": "@jupyter-widgets/controls",
      "_view_module_version": "1.5.0",
      "_view_name": "HBoxView",
      "box_style": "",
      "children": [
       "IPY_MODEL_5f9fb5b9cc1443ecb895689fd05909f6",
       "IPY_MODEL_cca6e82465834f01a668df24b4eeac69"
      ],
      "layout": "IPY_MODEL_4f6a8958ecdc4639a23d106df60f5840"
     }
    },
    "cca6e82465834f01a668df24b4eeac69": {
     "model_module": "@jupyter-widgets/controls",
     "model_name": "HTMLModel",
     "state": {
      "_dom_classes": [],
      "_model_module": "@jupyter-widgets/controls",
      "_model_module_version": "1.5.0",
      "_model_name": "HTMLModel",
      "_view_count": null,
      "_view_module": "@jupyter-widgets/controls",
      "_view_module_version": "1.5.0",
      "_view_name": "HTMLView",
      "description": "",
      "description_tooltip": null,
      "layout": "IPY_MODEL_adc5347f1340483493c2c92031bddb8d",
      "placeholder": "​",
      "style": "IPY_MODEL_955caec31192418c868f95c94dc5cb83",
      "value": " 600/600 [3:04:28&lt;00:00, 19.31s/pipeline]"
     }
    },
    "fa99bdb4f80f4cbb8f20f07744f47a10": {
     "model_module": "@jupyter-widgets/base",
     "model_name": "LayoutModel",
     "state": {
      "_model_module": "@jupyter-widgets/base",
      "_model_module_version": "1.2.0",
      "_model_name": "LayoutModel",
      "_view_count": null,
      "_view_module": "@jupyter-widgets/base",
      "_view_module_version": "1.2.0",
      "_view_name": "LayoutView",
      "align_content": null,
      "align_items": null,
      "align_self": null,
      "border": null,
      "bottom": null,
      "display": null,
      "flex": null,
      "flex_flow": null,
      "grid_area": null,
      "grid_auto_columns": null,
      "grid_auto_flow": null,
      "grid_auto_rows": null,
      "grid_column": null,
      "grid_gap": null,
      "grid_row": null,
      "grid_template_areas": null,
      "grid_template_columns": null,
      "grid_template_rows": null,
      "height": null,
      "justify_content": null,
      "justify_items": null,
      "left": null,
      "margin": null,
      "max_height": null,
      "max_width": null,
      "min_height": null,
      "min_width": null,
      "object_fit": null,
      "object_position": null,
      "order": null,
      "overflow": null,
      "overflow_x": null,
      "overflow_y": null,
      "padding": null,
      "right": null,
      "top": null,
      "visibility": null,
      "width": null
     }
    }
   }
  }
 },
 "nbformat": 4,
 "nbformat_minor": 1
}
